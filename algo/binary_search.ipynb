{
 "cells": [
  {
   "cell_type": "code",
   "execution_count": 8,
   "metadata": {},
   "outputs": [
    {
     "data": {
      "text/plain": [
       "[4, 9, 13, 16, 18, 25, 30, 37, 42, 47, 54, 63, 67, 77, 80, 82, 88, 90, 92, 99]"
      ]
     },
     "execution_count": 8,
     "metadata": {},
     "output_type": "execute_result"
    }
   ],
   "source": [
    "import random\n",
    "\n",
    "def create_random_sorted_array(n: int, lowest_step: int = 1, highest_step: int = 10) -> list[int]:\n",
    "    sorted_array: list[int] = list()\n",
    "    \n",
    "    for i in range(n): \n",
    "        val = random.randint(lowest_step, highest_step)\n",
    "        if i > 0: \n",
    "            val += sorted_array[-1]\n",
    "        sorted_array.append(val) \n",
    "    \n",
    "    return sorted_array\n",
    " \n",
    "create_random_sorted_array(20, 1, 10)\n",
    "        "
   ]
  }
 ],
 "metadata": {
  "kernelspec": {
   "display_name": "Python 3",
   "language": "python",
   "name": "python3"
  },
  "language_info": {
   "codemirror_mode": {
    "name": "ipython",
    "version": 3
   },
   "file_extension": ".py",
   "mimetype": "text/x-python",
   "name": "python",
   "nbconvert_exporter": "python",
   "pygments_lexer": "ipython3",
   "version": "3.12.1"
  }
 },
 "nbformat": 4,
 "nbformat_minor": 2
}
