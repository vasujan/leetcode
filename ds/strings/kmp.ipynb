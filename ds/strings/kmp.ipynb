{
 "cells": [
  {
   "cell_type": "markdown",
   "metadata": {},
   "source": [
    "# Knuth Morris Pratt Algorithm for String Pattern Matching\n",
    "\n",
    "Time complexity: $O(m + n)$ for length of text $n$ and length of pattern $m$"
   ]
  },
  {
   "cell_type": "code",
   "execution_count": 8,
   "metadata": {},
   "outputs": [
    {
     "data": {
      "text/plain": [
       "3"
      ]
     },
     "execution_count": 8,
     "metadata": {},
     "output_type": "execute_result"
    }
   ],
   "source": [
    "def brute_force_match(text: str, pattern: str) -> int:\n",
    "    t_n = len(text)\n",
    "    p_n = len(pattern) \n",
    "\n",
    "    for t_i in range(t_n - p_n + 1):\n",
    "        p_i = 0 \n",
    "        while p_i < p_n and text[t_i + p_i] == pattern[p_i]:\n",
    "            p_i += 1\n",
    "        if p_i == p_n:\n",
    "            return t_i\n",
    "    return -1\n"
   ]
  },
  {
   "cell_type": "code",
   "execution_count": 2,
   "metadata": {},
   "outputs": [],
   "source": [
    "def failureKMP(pattern: str) -> list:\n",
    "    \"\"\"Provides an array of failure indices for each character in the pattern string.\"\"\"\n",
    "\n",
    "    fail: list = [0] * len(pattern) \n",
    "    character_i: int = 1\n",
    "    character_matches: int = 0\n",
    "\n",
    "    while (character_i < len(pattern)):\n",
    "        if pattern[character_i] == pattern[character_matches]:\n",
    "            fail[character_i] = character_matches + 1\n",
    "            character_i += 1\n",
    "            character_matches += 1\n",
    "        elif (character_matches > 0):\n",
    "            character_matches = fail[character_matches - 1]\n",
    "            # Keeps offsetting the character matches until a match is found \n",
    "            # or the character matches turns out to be 0\n",
    "        else:\n",
    "            character_i += 1\n",
    "    \n",
    "    return fail\n",
    "\n",
    "def findKMP(text: str, pattern: str) -> int:\n",
    "    \"\"\"Returns the index where the pattern matches the text.\"\"\"\n",
    "\n",
    "    if len(text) == 0:\n",
    "        return 0\n",
    "    fail: list = failureKMP(pattern)\n",
    "    t_i: int = 0 # text index\n",
    "    p_i: int = 0 # pattern index\n",
    "    while t_i < len(text):\n",
    "        if text[t_i] == pattern[p_i]:\n",
    "            if p_i == len(pattern) - 1:\n",
    "                return t_i - len(pattern) - 1\n",
    "            t_i += 1\n",
    "            p_i += 1\n",
    "        elif p_i > 0:\n",
    "            p_i = fail[p_i]\n",
    "        else:\n",
    "            t_i += 1\n",
    "\n",
    "    "
   ]
  },
  {
   "cell_type": "code",
   "execution_count": 3,
   "metadata": {},
   "outputs": [
    {
     "data": {
      "text/plain": [
       "[0, 0, 0, 1, 0, 0, 1, 0]"
      ]
     },
     "execution_count": 3,
     "metadata": {},
     "output_type": "execute_result"
    }
   ],
   "source": [
    "failureKMP(\"abcadcad\")"
   ]
  },
  {
   "cell_type": "code",
   "execution_count": 3,
   "metadata": {},
   "outputs": [
    {
     "data": {
      "text/plain": [
       "14"
      ]
     },
     "execution_count": 3,
     "metadata": {},
     "output_type": "execute_result"
    }
   ],
   "source": [
    "findKMP(\"An apple fell far from the tree.\", \"far\")"
   ]
  },
  {
   "cell_type": "code",
   "execution_count": 7,
   "metadata": {},
   "outputs": [
    {
     "data": {
      "text/plain": [
       "[0, 0, 1, 2, 3, 0, 0]"
      ]
     },
     "execution_count": 7,
     "metadata": {},
     "output_type": "execute_result"
    }
   ],
   "source": [
    "def prefix_table(P: str | list) -> list[int]:\n",
    "    i: int = 1\n",
    "    j: int = 0\n",
    "    m: int = len(P)\n",
    "    F: list[int] = [0] * m\n",
    "\n",
    "    while i < m:\n",
    "        if P[i] == P[j]:\n",
    "            F[i] = j + 1\n",
    "            i += 1\n",
    "            j += 1\n",
    "        elif j > 0:\n",
    "            j = F[j-1]\n",
    "        else: \n",
    "            i += 1\n",
    "\n",
    "    return F\n",
    "\n",
    "prefix_table(\"acacagt\")"
   ]
  },
  {
   "cell_type": "code",
   "execution_count": 9,
   "metadata": {},
   "outputs": [
    {
     "data": {
      "text/plain": [
       "[0, 0, 1, 2, 3, 0, 0]"
      ]
     },
     "execution_count": 9,
     "metadata": {},
     "output_type": "execute_result"
    }
   ],
   "source": [
    "def prefix_table(P: str | list) -> list[int]:\n",
    "    m: int = len(P)\n",
    "    j = 0\n",
    "    F = [0] * m\n",
    "\n",
    "    for i in range(1, m):\n",
    "        while j > 0 and P[j] != P[i]:\n",
    "            j = F[j - 1]\n",
    "        if P[j] == P[i]:\n",
    "            j += 1\n",
    "        F[i] = j\n",
    "    \n",
    "    return F\n",
    "\n",
    "prefix_table(\"acacagt\")"
   ]
  },
  {
   "cell_type": "code",
   "execution_count": 21,
   "metadata": {},
   "outputs": [
    {
     "data": {
      "text/plain": [
       "6"
      ]
     },
     "execution_count": 21,
     "metadata": {},
     "output_type": "execute_result"
    }
   ],
   "source": [
    "# using for loops\n",
    "def KNP_prefix(pattern: str) -> list[int]:\n",
    "    m = len(pattern)\n",
    "    max_prefix = 0\n",
    "    fail = [0] * m\n",
    "\n",
    "    for i in range(1, m):\n",
    "        while max_prefix > 0 and pattern[i] != pattern[max_prefix]:\n",
    "            max_prefix = fail[max_prefix - 1]\n",
    "        if pattern[i] == pattern[max_prefix]:\n",
    "            max_prefix += 1\n",
    "        fail[i] = max_prefix\n",
    "\n",
    "    return fail\n",
    "\n",
    "def KNP_match(text: str, pattern: str) -> int: \n",
    "    m = len(pattern)\n",
    "    n = len(text)\n",
    "    fail = KNP_prefix(pattern)\n",
    "    j = 0\n",
    "\n",
    "    for i in range(n):\n",
    "        while j > 0 and text[i] != pattern[j]:\n",
    "            j = fail[j - 1]\n",
    "        if pattern[j] == text[i]:\n",
    "            j += 1\n",
    "        if j == m:\n",
    "            return i - m + 1\n",
    "    return -1  \n",
    "    \n",
    "KNP_match(\"abcdefghi\", \"ghi\")\n"
   ]
  }
 ],
 "metadata": {
  "kernelspec": {
   "display_name": "Python 3",
   "language": "python",
   "name": "python3"
  },
  "language_info": {
   "codemirror_mode": {
    "name": "ipython",
    "version": 3
   },
   "file_extension": ".py",
   "mimetype": "text/x-python",
   "name": "python",
   "nbconvert_exporter": "python",
   "pygments_lexer": "ipython3",
   "version": "3.11.5"
  }
 },
 "nbformat": 4,
 "nbformat_minor": 2
}
